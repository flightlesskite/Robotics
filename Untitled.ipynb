{
 "cells": [
  {
   "cell_type": "code",
   "execution_count": 1,
   "metadata": {},
   "outputs": [],
   "source": [
    "%%bash\n",
    "cp ~/notebooks/move.py ~/robot_ws/src/myturtlebot/src/move.py"
   ]
  },
  {
   "cell_type": "code",
   "execution_count": 2,
   "metadata": {},
   "outputs": [],
   "source": [
    "%%bash\n",
    "chmod +x ~/robot_ws/src/myturtlebot/src/move.py"
   ]
  },
  {
   "cell_type": "code",
   "execution_count": 4,
   "metadata": {},
   "outputs": [],
   "source": [
    "%%bash\n",
    "chmod +x ~/robot_ws/src/myturtlebot/src/wander.py"
   ]
  },
  {
   "cell_type": "code",
   "execution_count": 5,
   "metadata": {},
   "outputs": [
    {
     "name": "stderr",
     "output_type": "stream",
     "text": [
      "Unknown srv type [turtlebot/TurtlebotStatus]: Cannot locate message [TurtlebotStatus]: unknown package [turtlebot] on search path [{'rosconsole': ['/opt/ros/kinetic/share/rosconsole/srv'], 'catkin': ['/opt/ros/kinetic/share/catkin/srv'], 'urdf': ['/opt/ros/kinetic/share/urdf/srv'], 'rosgraph': ['/opt/ros/kinetic/share/rosgraph/srv'], 'resource_retriever': ['/opt/ros/kinetic/share/resource_retriever/srv'], 'astra_camera': ['/opt/ros/kinetic/share/astra_camera/srv'], 'nodelet_topic_tools': ['/opt/ros/kinetic/share/nodelet_topic_tools/srv'], 'rotate_recovery': ['/opt/ros/kinetic/share/rotate_recovery/srv'], 'rocon_python_comms': ['/opt/ros/kinetic/share/rocon_python_comms/srv'], 'ecl_exceptions': ['/opt/ros/kinetic/share/ecl_exceptions/srv'], 'navfn': ['/opt/ros/kinetic/share/navfn/srv'], 'dwa_local_planner': ['/opt/ros/kinetic/share/dwa_local_planner/srv'], 'smclib': ['/opt/ros/kinetic/share/smclib/srv'], 'rosparam': ['/opt/ros/kinetic/share/rosparam/srv'], 'geneus': ['/opt/ros/kinetic/share/geneus/srv'], 'roscpp_serialization': ['/opt/ros/kinetic/share/roscpp_serialization/srv'], 'bfl': ['/opt/ros/kinetic/share/bfl/srv'], 'rosbuild': ['/opt/ros/kinetic/share/rosbuild/srv'], 'astra_launch': ['/opt/ros/kinetic/share/astra_launch/srv'], 'rosbag_storage': ['/opt/ros/kinetic/share/rosbag_storage/srv'], 'tf': ['/opt/ros/kinetic/share/tf/srv'], 'roswtf': ['/opt/ros/kinetic/share/roswtf/srv'], 'kobuki_driver': ['/opt/ros/kinetic/share/kobuki_driver/srv'], 'move_base': ['/opt/ros/kinetic/share/move_base/srv'], 'shape_msgs': ['/opt/ros/kinetic/share/shape_msgs/srv'], 'trajectory_msgs': ['/opt/ros/kinetic/share/trajectory_msgs/srv'], 'ecl_containers': ['/opt/ros/kinetic/share/ecl_containers/srv'], 'diagnostic_aggregator': ['/opt/ros/kinetic/share/diagnostic_aggregator/srv'], 'ecl_license': ['/opt/ros/kinetic/share/ecl_license/srv'], 'rocon_service_pair_msgs': ['/opt/ros/kinetic/share/rocon_service_pair_msgs/srv'], 'robot_state_publisher': ['/opt/ros/kinetic/share/robot_state_publisher/srv'], 'camera_calibration_parsers': ['/opt/ros/kinetic/share/camera_calibration_parsers/srv'], 'diagnostic_updater': ['/opt/ros/kinetic/share/diagnostic_updater/srv'], 'ecl_streams': ['/opt/ros/kinetic/share/ecl_streams/srv'], 'tf2_eigen': ['/opt/ros/kinetic/share/tf2_eigen/srv'], 'turtlebot_capabilities': ['/opt/ros/kinetic/share/turtlebot_capabilities/srv'], 'ecl_mpl': ['/opt/ros/kinetic/share/ecl_mpl/srv'], 'rocon_app_utilities': ['/opt/ros/kinetic/share/rocon_app_utilities/srv'], 'diagnostic_msgs': ['/opt/ros/kinetic/share/diagnostic_msgs/srv'], 'rosgraph_msgs': ['/opt/ros/kinetic/share/rosgraph_msgs/srv'], 'rosboost_cfg': ['/opt/ros/kinetic/share/rosboost_cfg/srv'], 'genmsg': ['/opt/ros/kinetic/share/genmsg/srv'], 'xacro': ['/opt/ros/kinetic/share/xacro/srv'], 'rocon_interaction_msgs': ['/opt/ros/kinetic/share/rocon_interaction_msgs/srv'], 'pluginlib': ['/opt/ros/kinetic/share/pluginlib/srv'], 'xmlrpcpp': ['/opt/ros/kinetic/share/xmlrpcpp/srv'], 'freenect_camera': ['/opt/ros/kinetic/share/freenect_camera/srv'], 'rosmaster': ['/opt/ros/kinetic/share/rosmaster/srv'], 'realsense_camera': ['/opt/ros/kinetic/share/realsense_camera/srv'], 'yocs_velocity_smoother': ['/opt/ros/kinetic/share/yocs_velocity_smoother/srv'], 'rosnode': ['/opt/ros/kinetic/share/rosnode/srv'], 'bond': ['/opt/ros/kinetic/share/bond/srv'], 'rocon_apps': ['/opt/ros/kinetic/share/rocon_apps/srv'], 'pcl_conversions': ['/opt/ros/kinetic/share/pcl_conversions/srv'], 'actionlib_msgs': ['/opt/ros/kinetic/share/actionlib_msgs/srv'], 'ecl_errors': ['/opt/ros/kinetic/share/ecl_errors/srv'], 'rocon_std_msgs': ['/opt/ros/kinetic/share/rocon_std_msgs/srv'], 'ecl_sigslots': ['/opt/ros/kinetic/share/ecl_sigslots/srv'], 'depth_image_proc': ['/opt/ros/kinetic/share/depth_image_proc/srv'], 'tf2_msgs': ['/opt/ros/kinetic/share/tf2_msgs/srv'], 'python_qt_binding': ['/opt/ros/kinetic/share/python_qt_binding/srv'], 'laser_geometry': ['/opt/ros/kinetic/share/laser_geometry/srv'], 'clear_costmap_recovery': ['/opt/ros/kinetic/share/clear_costmap_recovery/srv'], 'rviz': ['/opt/ros/kinetic/share/rviz/srv'], 'rocon_master_info': ['/opt/ros/kinetic/share/rocon_master_info/srv'], 'gencpp': ['/opt/ros/kinetic/share/gencpp/srv'], 'std_msgs': ['/opt/ros/kinetic/share/std_msgs/srv'], 'rocon_interactions': ['/opt/ros/kinetic/share/rocon_interactions/srv'], 'eigen_conversions': ['/opt/ros/kinetic/share/eigen_conversions/srv'], 'roscpp_traits': ['/opt/ros/kinetic/share/roscpp_traits/srv'], 'rosout': ['/opt/ros/kinetic/share/rosout/srv'], 'rocon_hub_client': ['/opt/ros/kinetic/share/rocon_hub_client/srv'], 'rostopic': ['/opt/ros/kinetic/share/rostopic/srv'], 'visualization_msgs': ['/opt/ros/kinetic/share/visualization_msgs/srv'], 'message_generation': ['/opt/ros/kinetic/share/message_generation/srv'], 'gazebo_dev': ['/opt/ros/kinetic/share/gazebo_dev/srv'], 'rocon_gateway': ['/opt/ros/kinetic/share/rocon_gateway/srv'], 'polled_camera': ['/opt/ros/kinetic/share/polled_camera/srv'], 'rocon_icons': ['/opt/ros/kinetic/share/rocon_icons/srv'], 'ecl_threads': ['/opt/ros/kinetic/share/ecl_threads/srv'], 'rostime': ['/opt/ros/kinetic/share/rostime/srv'], 'turtlebot_navigation': ['/opt/ros/kinetic/share/turtlebot_navigation/srv'], 'kobuki_auto_docking': ['/opt/ros/kinetic/share/kobuki_auto_docking/srv'], 'sophus': ['/opt/ros/kinetic/share/sophus/srv'], 'ecl_time_lite': ['/opt/ros/kinetic/share/ecl_time_lite/srv'], 'rosservice': ['/opt/ros/kinetic/share/rosservice/srv'], 'rospy': ['/opt/ros/kinetic/share/rospy/srv'], 'kdl_conversions': ['/opt/ros/kinetic/share/kdl_conversions/srv'], 'map_msgs': ['/opt/ros/kinetic/share/map_msgs/srv'], 'ecl_build': ['/opt/ros/kinetic/share/ecl_build/srv'], 'python_orocos_kdl': ['/opt/ros/kinetic/share/python_orocos_kdl/srv'], 'depthimage_to_laserscan': ['/opt/ros/kinetic/share/depthimage_to_laserscan/srv'], 'bondcpp': ['/opt/ros/kinetic/share/bondcpp/srv'], 'rosconsole_bridge': ['/opt/ros/kinetic/share/rosconsole_bridge/srv'], 'gateway_msgs': ['/opt/ros/kinetic/share/gateway_msgs/srv'], 'geometry_msgs': ['/opt/ros/kinetic/share/geometry_msgs/srv'], 'roslz4': ['/opt/ros/kinetic/share/roslz4/srv'], 'ecl_converters': ['/opt/ros/kinetic/share/ecl_converters/srv'], 'rocon_ebnf': ['/opt/ros/kinetic/share/rocon_ebnf/srv'], 'std_capabilities': ['/opt/ros/kinetic/share/std_capabilities/srv'], 'rosmsg': ['/opt/ros/kinetic/share/rosmsg/srv'], 'turtlebot_description': ['/opt/ros/kinetic/share/turtlebot_description/srv'], 'rocon_uri': ['/opt/ros/kinetic/share/rocon_uri/srv'], 'rosunit': ['/opt/ros/kinetic/share/rosunit/srv'], 'roslib': ['/opt/ros/kinetic/share/roslib/srv'], 'stereo_msgs': ['/opt/ros/kinetic/share/stereo_msgs/srv'], 'kobuki_capabilities': ['/opt/ros/kinetic/share/kobuki_capabilities/srv'], 'pcl_msgs': ['/opt/ros/kinetic/share/pcl_msgs/srv'], 'interactive_markers': ['/opt/ros/kinetic/share/interactive_markers/srv'], 'create_driver': ['/opt/ros/kinetic/share/create_driver/srv'], 'rocon_gateway_utils': ['/opt/ros/kinetic/share/rocon_gateway_utils/srv'], 'move_base_msgs': ['/opt/ros/kinetic/share/move_base_msgs/srv'], 'myturtlebot': ['/home/rflab/robot_ws/src/myturtlebot/srv', '/home/rflab/robot_ws/devel/share/myturtlebot/srv'], 'capabilities': ['/opt/ros/kinetic/share/capabilities/srv'], 'turtlebot_gazebo': ['/opt/ros/kinetic/share/turtlebot_gazebo/srv'], 'rgbd_launch': ['/opt/ros/kinetic/share/rgbd_launch/srv'], 'rospack': ['/opt/ros/kinetic/share/rospack/srv'], 'libfreenect': ['/opt/ros/kinetic/share/libfreenect/srv'], 'tf2': ['/opt/ros/kinetic/share/tf2/srv'], 'ecl_eigen': ['/opt/ros/kinetic/share/ecl_eigen/srv'], 'rosbash': ['/opt/ros/kinetic/share/rosbash/srv'], 'topic_tools': ['/opt/ros/kinetic/share/topic_tools/srv'], 'yocs_controllers': ['/opt/ros/kinetic/share/yocs_controllers/srv'], 'rocon_python_redis': ['/opt/ros/kinetic/share/rocon_python_redis/srv'], 'rostest': ['/opt/ros/kinetic/share/rostest/srv'], 'ecl_time': ['/opt/ros/kinetic/share/ecl_time/srv'], 'cpp_common': ['/opt/ros/kinetic/share/cpp_common/srv'], 'nodelet': ['/opt/ros/kinetic/share/nodelet/srv'], 'kobuki_msgs': ['/opt/ros/kinetic/share/kobuki_msgs/srv'], 'genpy': ['/opt/ros/kinetic/share/genpy/srv'], 'message_runtime': ['/opt/ros/kinetic/share/message_runtime/srv'], 'gazebo_msgs': ['/opt/ros/kinetic/share/gazebo_msgs/srv'], 'roscreate': ['/opt/ros/kinetic/share/roscreate/srv'], 'image_transport': ['/opt/ros/kinetic/share/image_transport/srv'], 'ecl_mobile_robot': ['/opt/ros/kinetic/share/ecl_mobile_robot/srv'], 'rocon_app_manager_msgs': ['/opt/ros/kinetic/share/rocon_app_manager_msgs/srv'], 'rocon_python_wifi': ['/opt/ros/kinetic/share/rocon_python_wifi/srv'], 'angles': ['/opt/ros/kinetic/share/angles/srv'], 'openni2_launch': ['/opt/ros/kinetic/share/openni2_launch/srv'], 'cv_bridge': ['/opt/ros/kinetic/share/cv_bridge/srv'], 'gazebo_ros': ['/opt/ros/kinetic/share/gazebo_ros/srv'], 'ecl_geometry': ['/opt/ros/kinetic/share/ecl_geometry/srv'], 'ecl_utilities': ['/opt/ros/kinetic/share/ecl_utilities/srv'], 'rocon_hub': ['/opt/ros/kinetic/share/rocon_hub/srv'], 'roslang': ['/opt/ros/kinetic/share/roslang/srv'], 'std_srvs': ['/opt/ros/kinetic/share/std_srvs/srv'], 'ecl_concepts': ['/opt/ros/kinetic/share/ecl_concepts/srv'], 'ecl_math': ['/opt/ros/kinetic/share/ecl_math/srv'], 'mk': ['/opt/ros/kinetic/share/mk/srv'], 'roslaunch': ['/opt/ros/kinetic/share/roslaunch/srv'], 'rocon_app_manager': ['/opt/ros/kinetic/share/rocon_app_manager/srv'], 'amcl': ['/opt/ros/kinetic/share/amcl/srv'], 'ecl_linear_algebra': ['/opt/ros/kinetic/share/ecl_linear_algebra/srv'], 'gazebo_plugins': ['/opt/ros/kinetic/share/gazebo_plugins/srv'], 'bondpy': ['/opt/ros/kinetic/share/bondpy/srv'], 'camera_info_manager': ['/opt/ros/kinetic/share/camera_info_manager/srv'], 'kobuki_description': ['/opt/ros/kinetic/share/kobuki_description/srv'], 'tf2_kdl': ['/opt/ros/kinetic/share/tf2_kdl/srv'], 'genlisp': ['/opt/ros/kinetic/share/genlisp/srv'], 'ecl_formatters': ['/opt/ros/kinetic/share/ecl_formatters/srv'], 'class_loader': ['/opt/ros/kinetic/share/class_loader/srv'], 'tf2_py': ['/opt/ros/kinetic/share/tf2_py/srv'], 'rocon_semantic_version': ['/opt/ros/kinetic/share/rocon_semantic_version/srv'], 'create_node': ['/opt/ros/kinetic/share/create_node/srv'], 'cmake_modules': ['/opt/ros/kinetic/share/cmake_modules/srv'], 'nav_core': ['/opt/ros/kinetic/share/nav_core/srv'], 'openni2_camera': ['/opt/ros/kinetic/share/openni2_camera/srv'], 'uuid_msgs': ['/opt/ros/kinetic/share/uuid_msgs/srv'], 'kobuki_ftdi': ['/opt/ros/kinetic/share/kobuki_ftdi/srv'], 'rocon_console': ['/opt/ros/kinetic/share/rocon_console/srv'], 'robot_pose_ekf': ['/opt/ros/kinetic/share/robot_pose_ekf/srv'], 'create_description': ['/opt/ros/kinetic/share/create_description/srv'], 'nav_msgs': ['/opt/ros/kinetic/share/nav_msgs/srv'], 'rosmake': ['/opt/ros/kinetic/share/rosmake/srv'], 'image_proc': ['/opt/ros/kinetic/share/image_proc/srv'], 'costmap_2d': ['/opt/ros/kinetic/share/costmap_2d/srv'], 'kobuki_gazebo_plugins': ['/opt/ros/kinetic/share/kobuki_gazebo_plugins/srv'], 'ecl_command_line': ['/opt/ros/kinetic/share/ecl_command_line/srv'], 'zeroconf_avahi': ['/opt/ros/kinetic/share/zeroconf_avahi/srv'], 'kobuki_rapps': ['/opt/ros/kinetic/share/kobuki_rapps/srv'], 'kobuki_safety_controller': ['/opt/ros/kinetic/share/kobuki_safety_controller/srv'], 'kobuki_node': ['/opt/ros/kinetic/share/kobuki_node/srv'], 'rosclean': ['/opt/ros/kinetic/share/rosclean/srv'], 'tf2_ros': ['/opt/ros/kinetic/share/tf2_ros/srv'], 'rocon_python_utils': ['/opt/ros/kinetic/share/rocon_python_utils/srv'], 'pcl_ros': ['/opt/ros/kinetic/share/pcl_ros/srv'], 'base_local_planner': ['/opt/ros/kinetic/share/base_local_planner/srv'], 'image_geometry': ['/opt/ros/kinetic/share/image_geometry/srv'], 'ecl_devices': ['/opt/ros/kinetic/share/ecl_devices/srv'], 'roslisp': ['/opt/ros/kinetic/share/roslisp/srv'], 'freenect_launch': ['/opt/ros/kinetic/share/freenect_launch/srv'], 'message_filters': ['/opt/ros/kinetic/share/message_filters/srv'], 'librealsense': ['/opt/ros/kinetic/share/librealsense/srv'], 'zeroconf_msgs': ['/opt/ros/kinetic/share/zeroconf_msgs/srv'], 'kobuki_bumper2pc': ['/opt/ros/kinetic/share/kobuki_bumper2pc/srv'], 'gmapping': ['/opt/ros/kinetic/share/gmapping/srv'], 'yocs_cmd_vel_mux': ['/opt/ros/kinetic/share/yocs_cmd_vel_mux/srv'], 'rospy_tutorials': ['/opt/ros/kinetic/share/rospy_tutorials/srv'], 'rocon_bubble_icons': ['/opt/ros/kinetic/share/rocon_bubble_icons/srv'], 'map_server': ['/opt/ros/kinetic/share/map_server/srv'], 'voxel_grid': ['/opt/ros/kinetic/share/voxel_grid/srv'], 'turtlebot_bringup': ['/opt/ros/kinetic/share/turtlebot_bringup/srv'], 'roscpp': ['/opt/ros/kinetic/share/roscpp/srv'], 'dynamic_reconfigure': ['/opt/ros/kinetic/share/dynamic_reconfigure/srv'], 'kobuki_dock_drive': ['/opt/ros/kinetic/share/kobuki_dock_drive/srv'], 'ecl_type_traits': ['/opt/ros/kinetic/share/ecl_type_traits/srv'], 'opencv3': ['/opt/ros/kinetic/share/opencv3/srv'], 'kobuki_random_walker': ['/opt/ros/kinetic/share/kobuki_random_walker/srv'], 'openslam_gmapping': ['/opt/ros/kinetic/share/openslam_gmapping/srv'], 'kdl_parser': ['/opt/ros/kinetic/share/kdl_parser/srv'], 'gennodejs': ['/opt/ros/kinetic/share/gennodejs/srv', '/home/rflab/robot_ws/devel/share/gennodejs/srv'], 'rosbag_migration_rule': ['/opt/ros/kinetic/share/rosbag_migration_rule/srv'], 'media_export': ['/opt/ros/kinetic/share/media_export/srv'], 'laptop_battery_monitor': ['/opt/ros/kinetic/share/laptop_battery_monitor/srv'], 'kobuki_keyop': ['/opt/ros/kinetic/share/kobuki_keyop/srv'], 'ecl_config': ['/opt/ros/kinetic/share/ecl_config/srv'], 'sensor_msgs': ['/opt/ros/kinetic/share/sensor_msgs/srv'], 'orocos_kdl': ['/opt/ros/kinetic/share/orocos_kdl/srv'], 'rosbag': ['/opt/ros/kinetic/share/rosbag/srv'], 'actionlib': ['/opt/ros/kinetic/share/actionlib/srv'], 'unique_id': ['/opt/ros/kinetic/share/unique_id/srv']}]\n"
     ]
    }
   ],
   "source": [
    "%%bash\n",
    "source ~/robot_ws/devel/setup.bash\n",
    "rossrv show turtlebot/TurtlebotStatus"
   ]
  },
  {
   "cell_type": "code",
   "execution_count": null,
   "metadata": {},
   "outputs": [],
   "source": []
  }
 ],
 "metadata": {
  "kernelspec": {
   "display_name": "Python 2",
   "language": "python",
   "name": "python2"
  },
  "language_info": {
   "codemirror_mode": {
    "name": "ipython",
    "version": 2
   },
   "file_extension": ".py",
   "mimetype": "text/x-python",
   "name": "python",
   "nbconvert_exporter": "python",
   "pygments_lexer": "ipython2",
   "version": "2.7.12"
  }
 },
 "nbformat": 4,
 "nbformat_minor": 2
}
